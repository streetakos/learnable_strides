{
 "cells": [
  {
   "cell_type": "markdown",
   "metadata": {},
   "source": [
    "## Learnable strides and Backprobagation"
   ]
  },
  {
   "cell_type": "markdown",
   "metadata": {},
   "source": [
    "Simple example. \n",
    "Define $y$ output image (after convolution) and $x$ the input image.\n",
    "\n",
    "Let $R = \\{ (0,0),(0,1),(1,0),(1,1) \\}$ enumerate all the location of the kernel $w$\n",
    "In the case of multiple input channels $R$ can be a set of 3D indexes\n",
    "for example $R = \\{ (0,0,0),(0,0,1) \\dots \\}$\n",
    "\n",
    "Also let $s=(s_x,s_y)$ be a set of positive scalars that encapsulates the strides\n",
    "per location\n",
    "\n",
    "\n",
    "The output for the output pixel $p$ is defined as: \n",
    "$$ y_{p} = \\sum_{p_n \\in R} w_{p_n}x_{p*s + p_n} $$\n",
    "\n",
    "The $x_{p*s + p_n}$ value on the input image can be calculated via bilinear interpolation\n",
    "..."
   ]
  },
  {
   "cell_type": "markdown",
   "metadata": {},
   "source": [
    "Backpropagation\n",
    "Supose we have an output $y \\in \\Re^{2 \\times 2}$\n",
    "\n",
    "$$\n",
    "\\frac{\\partial L}{\\partial y} = \n",
    "\\begin{bmatrix}\n",
    "\\frac{\\partial L}{\\partial y_{0,0}} & \\frac{\\partial L}{\\partial y_{1,0}} &\n",
    "\\frac{\\partial L}{\\partial y_{0,1}} & \\frac{\\partial L}{\\partial y_{1,1}}\n",
    "\\end{bmatrix}\n",
    "$$\n",
    "\n",
    "$$\n",
    "\\frac{\\partial y}{\\partial s} = \n",
    "\\begin{bmatrix}\n",
    "\\frac{\\partial y_{0,0}}{\\partial s_{x}} & \\frac{\\partial y_{0,0}}{\\partial s_{y}} \\\\\n",
    "\\frac{\\partial y_{1,0}}{\\partial s_{x}} & \\frac{\\partial y_{1,0}}{\\partial s_{y}} \\\\\n",
    "\\frac{\\partial y_{0,1}}{\\partial s_{x}} & \\frac{\\partial y_{0,1}}{\\partial s_{y}} \\\\\n",
    "\\frac{\\partial y_{1,1}}{\\partial s_{x}} & \\frac{\\partial y_{1,1}}{\\partial s_{y}} \\\\\n",
    "\\end{bmatrix}\n",
    "$$\n",
    "\n",
    "Where for example $\\frac{\\partial y_{0,0}}{\\partial s_{x}}$ is equal to \n",
    "$$\n",
    "\\frac{\\partial y_{0,0}}{\\partial s_{x}} = \\sum_{p_n \\in R} w_{p_n} \\frac{\\partial x_{(0,0)*s + p_n}}{\\partial s_{x}}\n",
    "$$"
   ]
  },
  {
   "cell_type": "code",
   "execution_count": 1,
   "metadata": {},
   "outputs": [],
   "source": [
    "import numpy as np"
   ]
  },
  {
   "cell_type": "code",
   "execution_count": 2,
   "metadata": {},
   "outputs": [],
   "source": [
    "# The same code as in the original MMCV implementation\n",
    "\n",
    "def get_coordinate_weight(argmax_h, argmax_w, height, width, im_data, data_width, bp_dir):\n",
    "    if (argmax_h <= -1 or argmax_h >= height or argmax_w <= -1 or argmax_w >= width):\n",
    "        return 0;\n",
    "  \n",
    "\n",
    "    argmax_h_low = int(np.floor(argmax_h))\n",
    "    argmax_w_low = int(np.floor(argmax_w))\n",
    "    argmax_h_high = int(argmax_h_low + 1)\n",
    "    argmax_w_high = int(argmax_w_low + 1)\n",
    "\n",
    "    weight = 0\n",
    "\n",
    "    if (bp_dir == 0):\n",
    "        if (argmax_h_low >= 0 and argmax_w_low >= 0):\n",
    "            \n",
    "            weight += -1 * (argmax_w_low + 1 - argmax_w) * im_data[argmax_h_low , argmax_w_low]\n",
    "            \n",
    "        if (argmax_h_low >= 0 and argmax_w_high <= width - 1):\n",
    "            weight += -1 * (argmax_w - argmax_w_low) *im_data[argmax_h_low , argmax_w_high]\n",
    "            \n",
    "        if (argmax_h_high <= height - 1 and argmax_w_low >= 0):\n",
    "            weight += (argmax_w_low + 1 - argmax_w) *im_data[argmax_h_high, argmax_w_low]\n",
    "            \n",
    "        if (argmax_h_high <= height - 1 and argmax_w_high <= width - 1):\n",
    "            weight += (argmax_w - argmax_w_low) * im_data[argmax_h_high , argmax_w_high]\n",
    "    \n",
    "    elif (bp_dir == 1):\n",
    "        if (argmax_h_low >= 0 and argmax_w_low >= 0):\n",
    "            weight += -1 * (argmax_h_low + 1 - argmax_h) * im_data[argmax_h_low,argmax_w_low]\n",
    "            \n",
    "        if (argmax_h_low >= 0 and argmax_w_high <= width - 1):\n",
    "            weight += (argmax_h_low + 1 - argmax_h) *im_data[argmax_h_low , argmax_w_high]\n",
    "            \n",
    "        if (argmax_h_high <= height - 1 and argmax_w_low >= 0):\n",
    "            weight += -1 * (argmax_h - argmax_h_low) *im_data[argmax_h_high, argmax_w_low]\n",
    "            \n",
    "        if (argmax_h_high <= height - 1 and argmax_w_high <= width - 1):\n",
    "            weight += (argmax_h - argmax_h_low) * im_data[argmax_h_high , argmax_w_high]\n",
    "            \n",
    "\n",
    "    \n",
    "    return weight\n"
   ]
  },
  {
   "cell_type": "code",
   "execution_count": 3,
   "metadata": {},
   "outputs": [
    {
     "name": "stdout",
     "output_type": "stream",
     "text": [
      "pos  0.0 0.0\n",
      "pos  0.0 1.0\n",
      "pos  1.0 0.0\n",
      "pos  1.0 1.0\n"
     ]
    },
    {
     "data": {
      "text/plain": [
       "-2.0"
      ]
     },
     "execution_count": 3,
     "metadata": {},
     "output_type": "execute_result"
    }
   ],
   "source": [
    "# This code get the gradient of y[h_out, w_out] wrt s_x or s_y\n",
    "# This code agrees with my implementation in CUDA\n",
    "\n",
    "input = [[[[10., 2., 3.], [0., 1., 2.], [30., 5., 2.]]]]\n",
    "\n",
    "w_out = 0\n",
    "h_out = 0\n",
    "\n",
    "s_x = 2.2\n",
    "s_y = 2.4\n",
    "\n",
    "w_in = w_out * s_x - 0;\n",
    "h_in = h_out * s_y - 0; \n",
    "\n",
    "# Input dimentions\n",
    "height = 3\n",
    "width =  3\n",
    "\n",
    "\n",
    "\n",
    "val = 0\n",
    "\n",
    "# Kernel values\n",
    "weight = np.array([0.4, 0.2, 0.1, 0.9])\n",
    "weight = weight.reshape(2,2)\n",
    "\n",
    "# 0 for x, 1 for y\n",
    "direction = 1\n",
    "\n",
    "# Locations of 2x2 kernel\n",
    "k = [0,1,0,1]\n",
    "l = [0,0,1,1]\n",
    "for i,j in zip(k,l):\n",
    "    \n",
    "    # x,y axis in indexing are different in c++\n",
    "    inv_h = h_in + j * 1\n",
    "    inv_w = w_in + i * 1\n",
    "    print('pos ',inv_h, inv_w)\n",
    "\n",
    "    \n",
    "    if (inv_h <= -1 or inv_w <= -1 or inv_h >= height or inv_w >= width):\n",
    "        inv_h = inv_w = -2\n",
    "\n",
    "    val += weight[i,j]*get_coordinate_weight(inv_w, inv_h, height, width, np.array(input)[0,0,:,:], 0, direction)\n",
    "    \n",
    "val"
   ]
  },
  {
   "cell_type": "code",
   "execution_count": null,
   "metadata": {},
   "outputs": [],
   "source": []
  }
 ],
 "metadata": {
  "kernelspec": {
   "display_name": "Python 3",
   "language": "python",
   "name": "python3"
  },
  "language_info": {
   "codemirror_mode": {
    "name": "ipython",
    "version": 3
   },
   "file_extension": ".py",
   "mimetype": "text/x-python",
   "name": "python",
   "nbconvert_exporter": "python",
   "pygments_lexer": "ipython3",
   "version": "3.7.5"
  }
 },
 "nbformat": 4,
 "nbformat_minor": 2
}
